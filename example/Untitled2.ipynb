{
 "cells": [
  {
   "cell_type": "code",
   "execution_count": 16,
   "id": "67056386",
   "metadata": {},
   "outputs": [
    {
     "name": "stdout",
     "output_type": "stream",
     "text": [
      "['.ipynb_checkpoints', '01_수시분_조정집계표_물부담금.xlsx', '01_수시분_조정집계표_상수도.xlsx', '01_수시분_조정집계표_음식물.xlsx', '01_수시분_조정집계표_하수 + 지하.xlsx', '01_수시분_조정집계표_하수도.xlsx', 'Untitled.ipynb', 'Untitled1.ipynb', 'Untitled2.ipynb']\n"
     ]
    }
   ],
   "source": [
    "import os\n",
    "\n",
    "path = \"./\"\n",
    "file_list = os.listdir(path)\n",
    "print(file_list)"
   ]
  },
  {
   "cell_type": "code",
   "execution_count": 17,
   "id": "631f37c5",
   "metadata": {},
   "outputs": [
    {
     "name": "stdout",
     "output_type": "stream",
     "text": [
      "file_list_xlsx: ['01_수시분_조정집계표_물부담금.xlsx', '01_수시분_조정집계표_상수도.xlsx', '01_수시분_조정집계표_음식물.xlsx', '01_수시분_조정집계표_하수 + 지하.xlsx', '01_수시분_조정집계표_하수도.xlsx']\n"
     ]
    }
   ],
   "source": [
    "file_list_xlsx = [file for file in file_list if file.endswith(\".xlsx\")]\n",
    "\n",
    "print (\"file_list_xlsx: {}\".format(file_list_xlsx))"
   ]
  },
  {
   "cell_type": "code",
   "execution_count": 29,
   "id": "cf8a6fd1",
   "metadata": {},
   "outputs": [],
   "source": [
    "import pandas as pd\n",
    "df1 = pd.read_excel(\"01_수시분_조정집계표_상수도.xlsx\", engine = 'openpyxl')\n",
    "df2 = pd.read_excel(\"01_수시분_조정집계표_하수도.xlsx\", engine = 'openpyxl')\n",
    "df3 = pd.read_excel(\"01_수시분_조정집계표_하수 + 지하.xlsx\", engine = 'openpyxl')\n",
    "df4 = pd.read_excel(\"01_수시분_조정집계표_음식물.xlsx\", engine = 'openpyxl')\n",
    "df5 = pd.read_excel(\"01_수시분_조정집계표_물부담금.xlsx\", engine = 'openpyxl')"
   ]
  },
  {
   "cell_type": "code",
   "execution_count": 22,
   "id": "ae88a44f",
   "metadata": {},
   "outputs": [],
   "source": [
    "from openpyxl import load_workbook\n",
    "wb1 = openpyxl.load_workbook(\"01_수시분_조정집계표_상수도.xlsx\", data_only = True)\n",
    "wb2 = openpyxl.load_workbook(\"01_수시분_조정집계표_하수도.xlsx\", data_only = True)\n",
    "wb3 = openpyxl.load_workbook(\"01_수시분_조정집계표_하수 + 지하.xlsx\", data_only = True)\n",
    "wb4 = openpyxl.load_workbook(\"01_수시분_조정집계표_음식물.xlsx\" , data_only = True)\n",
    "wb5 = openpyxl.load_workbook(\"01_수시분_조정집계표_물부담금.xlsx\", data_only = True)"
   ]
  },
  {
   "cell_type": "code",
   "execution_count": 26,
   "id": "d0809d50",
   "metadata": {},
   "outputs": [
    {
     "data": {
      "text/plain": [
       "<Worksheet \"상수도\">"
      ]
     },
     "execution_count": 26,
     "metadata": {},
     "output_type": "execute_result"
    }
   ],
   "source": [
    "ws = wb1.active\n",
    "ws"
   ]
  },
  {
   "cell_type": "code",
   "execution_count": 8,
   "id": "3ed6a18e",
   "metadata": {},
   "outputs": [
    {
     "name": "stdout",
     "output_type": "stream",
     "text": [
      "[['01_수시분_조정집계표_물부담금.xlsx', 766, 9484, 1471, 18052], ['01_수시분_조정집계표_상수도.xlsx', 766, 9484, 1471, 18052], ['01_수시분_조정집계표_음식물.xlsx', 34, 0, 67, 0], ['01_수시분_조정집계표_하수 + 지하.xlsx', 766, 9484, 1468, 18025], ['01_수시분_조정집계표_하수도.xlsx', 766, 9484, 1468, 18025]]\n"
     ]
    }
   ],
   "source": [
    "from openpyxl import load_workbook\n",
    "\n",
    "results = []\n",
    "\n",
    "for file_name_raw in file_list_xlsx:\n",
    "\n",
    "    file_name = \"./\" + file_name_raw\n",
    "    wb = load_workbook(filename=file_name, data_only=True)\n",
    "    ws = wb.active\n",
    "\n",
    "    result = []\n",
    "    result.append(file_name_raw)\n",
    "    result.append(ws['C2'].value)\n",
    "    result.append(ws['C3'].value)\n",
    "    result.append(ws['E2'].value)\n",
    "    result.append(ws['E3'].value)\n",
    "    results.append(result)\n",
    "\n",
    "print(results)\n",
    "\n",
    "\n",
    "from openpyxl import Workbook\n",
    "wb = Workbook()\n",
    "ws = wb.active\n",
    "\n",
    "for i in results:\n",
    "    ws.append(i)\n",
    "\n",
    "wb.save(\"results.xlsx\")"
   ]
  },
  {
   "cell_type": "code",
   "execution_count": null,
   "id": "0707d109",
   "metadata": {},
   "outputs": [],
   "source": []
  }
 ],
 "metadata": {
  "kernelspec": {
   "display_name": "Python 3 (ipykernel)",
   "language": "python",
   "name": "python3"
  },
  "language_info": {
   "codemirror_mode": {
    "name": "ipython",
    "version": 3
   },
   "file_extension": ".py",
   "mimetype": "text/x-python",
   "name": "python",
   "nbconvert_exporter": "python",
   "pygments_lexer": "ipython3",
   "version": "3.9.7"
  }
 },
 "nbformat": 4,
 "nbformat_minor": 5
}
