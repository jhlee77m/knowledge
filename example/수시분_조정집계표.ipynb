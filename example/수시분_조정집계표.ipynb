{
 "cells": [
  {
   "cell_type": "code",
   "execution_count": 1,
   "id": "87a18432",
   "metadata": {},
   "outputs": [
    {
     "name": "stdout",
     "output_type": "stream",
     "text": [
      "File names: ['.\\\\01_수시분_조정집계표.xlsx', '.\\\\01_수시분_조정집계표_물부담금.xlsx', '.\\\\01_수시분_조정집계표_상수도.xlsx', '.\\\\01_수시분_조정집계표_음식물.xlsx', '.\\\\01_수시분_조정집계표_하수 + 지하.xlsx', '.\\\\01_수시분_조정집계표_하수도.xlsx']\n"
     ]
    }
   ],
   "source": [
    "import pandas as pd\n",
    "import glob\n",
    "\n",
    "# getting excel files from Directory Desktop\n",
    "path = \"./\"\n",
    "\n",
    "# read all the files with extension .xlsx i.e. excel \n",
    "filenames = glob.glob(path + \"01*.xlsx\")\n",
    "\n",
    "print('File names:', filenames)"
   ]
  },
  {
   "cell_type": "code",
   "execution_count": 2,
   "id": "c822c667",
   "metadata": {},
   "outputs": [],
   "source": [
    "data1 = pd.read_excel(\"01_수시분_조정집계표_상수도.xlsx\")\n",
    "income1 = pd.DataFrame(data1)\n",
    "\n",
    "data2 = pd.read_excel(\"01_수시분_조정집계표_하수도.xlsx\")\n",
    "income2 = pd.DataFrame(data2)\n",
    "\n",
    "data3 = pd.read_excel(\"01_수시분_조정집계표_하수 + 지하.xlsx\")\n",
    "income3 = pd.DataFrame(data3)\n",
    "\n",
    "data4 = pd.read_excel(\"01_수시분_조정집계표_음식물.xlsx\")\n",
    "income4 = pd.DataFrame(data4)\n",
    "\n",
    "data5 = pd.read_excel(\"01_수시분_조정집계표_물부담금.xlsx\")\n",
    "income5 = pd.DataFrame(data5)\n",
    "\n",
    "income_sheets = {'상수도': income1, '하수도': income2, '하수 + 지하': income3,\n",
    "                 '음식물': income4, '물부담금': income5}\n",
    "\n",
    "writer = pd.ExcelWriter('./01_수시분_조정집계표.xlsx', engine='xlsxwriter')\n",
    "\n",
    "for sheet_name in income_sheets.keys():\n",
    "    income_sheets[sheet_name].to_excel(writer, sheet_name=sheet_name, index=False)\n",
    "\n",
    "writer.save()"
   ]
  },
  {
   "cell_type": "code",
   "execution_count": 3,
   "id": "0c0cb981",
   "metadata": {},
   "outputs": [],
   "source": [
    "from openpyxl import load_workbook\n",
    "wb1 = load_workbook(\"./01_수시분_조정집계표.xlsx\")"
   ]
  },
  {
   "cell_type": "code",
   "execution_count": 4,
   "id": "acc2f6d3",
   "metadata": {},
   "outputs": [],
   "source": [
    "ws1 = wb1[\"상수도\"]\n",
    "ws2 = wb1[\"하수도\"]\n",
    "ws3 = wb1[\"하수 + 지하\"]\n",
    "ws4 = wb1[\"음식물\"]\n",
    "ws5 = wb1[\"물부담금\"]"
   ]
  },
  {
   "cell_type": "code",
   "execution_count": 5,
   "id": "011ad316",
   "metadata": {},
   "outputs": [],
   "source": [
    "from openpyxl.styles.fonts import Font"
   ]
  },
  {
   "cell_type": "code",
   "execution_count": 6,
   "id": "67a55a68",
   "metadata": {},
   "outputs": [],
   "source": [
    "# culumns is passed by list and element of columns means column index in worksheet.\n",
    "# if culumns = [1, 3, 4] then, 1st, 3th, 4th columns are applied autofit culumn.\n",
    "# margin is additional space of autofit column. \n",
    "\n",
    "def AutoFitColumnSize(worksheet, columns=None, margin=3):\n",
    "    for i, column_cells in enumerate(worksheet.columns):\n",
    "        is_ok = False\n",
    "        if columns == None:\n",
    "            is_ok = True\n",
    "        elif isinstance(columns, list) and i in columns:\n",
    "            is_ok = True\n",
    "            \n",
    "        if is_ok:\n",
    "            length = max(len(str(cell.value)) for cell in column_cells)\n",
    "            worksheet.column_dimensions[column_cells[0].column_letter].width = length + margin\n",
    "\n",
    "    return worksheet"
   ]
  },
  {
   "cell_type": "code",
   "execution_count": 7,
   "id": "8c133447",
   "metadata": {},
   "outputs": [
    {
     "data": {
      "text/plain": [
       "<Worksheet \"물부담금\">"
      ]
     },
     "execution_count": 7,
     "metadata": {},
     "output_type": "execute_result"
    }
   ],
   "source": [
    "AutoFitColumnSize(ws1,columns=None, margin=5)\n",
    "AutoFitColumnSize(ws2,columns=None, margin=5)\n",
    "AutoFitColumnSize(ws3,columns=None, margin=5)\n",
    "AutoFitColumnSize(ws4,columns=None, margin=5)\n",
    "AutoFitColumnSize(ws5,columns=None, margin=5)"
   ]
  },
  {
   "cell_type": "code",
   "execution_count": 8,
   "id": "3f7d5fdf",
   "metadata": {},
   "outputs": [],
   "source": [
    "from openpyxl.styles import Border, Side"
   ]
  },
  {
   "cell_type": "code",
   "execution_count": 9,
   "id": "627a1719",
   "metadata": {},
   "outputs": [],
   "source": [
    "ws1.insert_rows(1, 2)\n",
    "ws1.merge_cells('A1:E1')\n",
    "ws1['A1'] ='2022년 4월 상수도 조정집계표'\n",
    "ws1['A1'].font = Font(size=18)\n",
    "ws1['A3'] =\"\"\n",
    "ws1['B3'] =\"\"\n",
    "\n",
    "ws2.insert_rows(1, 2)\n",
    "ws2.merge_cells('A1:E1')\n",
    "ws2['A1'] ='2022년 4월 하수도 조정집계표'\n",
    "ws2['A1'].font = Font(size=18)\n",
    "ws2['A3'] =\"\"\n",
    "ws2['B3'] =\"\"\n",
    "\n",
    "ws3.insert_rows(1, 2)\n",
    "ws3.merge_cells('A1:E1')\n",
    "ws3['A1'] ='2022년 4월 하수 + 지하 조정집계표'\n",
    "ws3['A1'].font = Font(size=18)\n",
    "ws3['A3'] =\"\"\n",
    "ws3['B3'] =\"\"\n",
    "\n",
    "ws4.insert_rows(1, 2)\n",
    "ws4.merge_cells('A1:E1')\n",
    "ws4['A1'] ='2022년 4월 음식물 조정집계표'\n",
    "ws4['A1'].font = Font(size=18)\n",
    "ws4['A3'] =\"\"\n",
    "ws4['B3'] =\"\"\n",
    "\n",
    "ws5.insert_rows(1, 2)\n",
    "ws5.merge_cells('A1:E1')\n",
    "ws5['A1'] ='2022년 4월 물부담금 조정집계표'\n",
    "ws5['A1'].font = Font(size=18)\n",
    "ws5['A3'] =\"\"\n",
    "ws5['B3'] =\"\""
   ]
  },
  {
   "cell_type": "code",
   "execution_count": 10,
   "id": "c716289d",
   "metadata": {},
   "outputs": [],
   "source": [
    "c1_1 = ws1.cell(row=3, column=1)\n",
    "c1_2 = ws1.cell(row=3, column=2)\n",
    "c1_3 = ws1.cell(row=3, column=3)\n",
    "c1_4 = ws1.cell(row=3, column=4)\n",
    "c1_5 = ws1.cell(row=3, column=5)\n",
    "\n",
    "thin_border = Border(left=Side(), right=Side(),\n",
    "                     top=Side(), bottom=Side())\n",
    "        \n",
    "c1_1.border = thin_border\n",
    "c1_2.border = thin_border\n",
    "c1_3.border = thin_border\n",
    "c1_4.border = thin_border\n",
    "c1_5.border = thin_border"
   ]
  },
  {
   "cell_type": "code",
   "execution_count": 11,
   "id": "804bcf27",
   "metadata": {},
   "outputs": [],
   "source": [
    "c2_1 = ws2.cell(row=3, column=1)\n",
    "c2_2 = ws2.cell(row=3, column=2)\n",
    "c2_3 = ws2.cell(row=3, column=3)\n",
    "c2_4 = ws2.cell(row=3, column=4)\n",
    "c2_5 = ws2.cell(row=3, column=5)\n",
    "\n",
    "thin_border = Border(left=Side(), right=Side(),\n",
    "                     top=Side(), bottom=Side())\n",
    "        \n",
    "c2_1.border = thin_border\n",
    "c2_2.border = thin_border\n",
    "c2_3.border = thin_border\n",
    "c2_4.border = thin_border\n",
    "c2_5.border = thin_border"
   ]
  },
  {
   "cell_type": "code",
   "execution_count": 12,
   "id": "01dda700",
   "metadata": {},
   "outputs": [],
   "source": [
    "c3_1 = ws3.cell(row=3, column=1)\n",
    "c3_2 = ws3.cell(row=3, column=2)\n",
    "c3_3 = ws3.cell(row=3, column=3)\n",
    "c3_4 = ws3.cell(row=3, column=4)\n",
    "c3_5 = ws3.cell(row=3, column=5)\n",
    "\n",
    "thin_border = Border(left=Side(), right=Side(),\n",
    "                     top=Side(), bottom=Side())\n",
    "        \n",
    "c3_1.border = thin_border\n",
    "c3_2.border = thin_border\n",
    "c3_3.border = thin_border\n",
    "c3_4.border = thin_border\n",
    "c3_5.border = thin_border"
   ]
  },
  {
   "cell_type": "code",
   "execution_count": 13,
   "id": "fe5e26ae",
   "metadata": {},
   "outputs": [],
   "source": [
    "c4_1 = ws4.cell(row=3, column=1)\n",
    "c4_2 = ws4.cell(row=3, column=2)\n",
    "c4_3 = ws4.cell(row=3, column=3)\n",
    "c4_4 = ws4.cell(row=3, column=4)\n",
    "c4_5 = ws4.cell(row=3, column=5)\n",
    "\n",
    "thin_border = Border(left=Side(), right=Side(),\n",
    "                     top=Side(), bottom=Side())\n",
    "        \n",
    "c4_1.border = thin_border\n",
    "c4_2.border = thin_border\n",
    "c4_3.border = thin_border\n",
    "c4_4.border = thin_border\n",
    "c4_5.border = thin_border"
   ]
  },
  {
   "cell_type": "code",
   "execution_count": 14,
   "id": "61df270a",
   "metadata": {},
   "outputs": [],
   "source": [
    "c5_1 = ws5.cell(row=3, column=1)\n",
    "c5_2 = ws5.cell(row=3, column=2)\n",
    "c5_3 = ws5.cell(row=3, column=3)\n",
    "c5_4 = ws5.cell(row=3, column=4)\n",
    "c5_5 = ws5.cell(row=3, column=5)\n",
    "\n",
    "thin_border = Border(left=Side(), right=Side(),\n",
    "                     top=Side(), bottom=Side())\n",
    "        \n",
    "c5_1.border = thin_border\n",
    "c5_2.border = thin_border\n",
    "c5_3.border = thin_border\n",
    "c5_4.border = thin_border\n",
    "c5_5.border = thin_border"
   ]
  },
  {
   "cell_type": "code",
   "execution_count": 15,
   "id": "7765ba57",
   "metadata": {},
   "outputs": [],
   "source": [
    "wb1.save(\"./01_수시분_조정집계표.xlsx\")"
   ]
  }
 ],
 "metadata": {
  "kernelspec": {
   "display_name": "Python 3 (ipykernel)",
   "language": "python",
   "name": "python3"
  },
  "language_info": {
   "codemirror_mode": {
    "name": "ipython",
    "version": 3
   },
   "file_extension": ".py",
   "mimetype": "text/x-python",
   "name": "python",
   "nbconvert_exporter": "python",
   "pygments_lexer": "ipython3",
   "version": "3.9.7"
  }
 },
 "nbformat": 4,
 "nbformat_minor": 5
}
