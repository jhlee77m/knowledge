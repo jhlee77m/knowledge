{
 "cells": [
  {
   "cell_type": "code",
   "execution_count": 1,
   "id": "a5a3ce85",
   "metadata": {},
   "outputs": [],
   "source": [
    "import openpyxl as op"
   ]
  },
  {
   "cell_type": "code",
   "execution_count": null,
   "id": "5eee617c",
   "metadata": {},
   "outputs": [],
   "source": [
    "#지정 한 열의 분류를 중복없이 받아오기 \n",
    "def categoryList(col : int)-> list:\n",
    "    temp_list = [r[col].value for r in ws] #리스트 컴프리헨션 : 열번호 입력받아서 데이터 리스트화\n",
    "    del temp_list[0] #제목행 제거 \n",
    "    temp_set = set(temp_list) #중복을 제거하기 위해 list를 set으로 변환 \n",
    "    name_list = list(temp_set) #다시 set을 리스트로 변환 \n",
    "    print(name_list) return name_list #위 리스트를 리턴"
   ]
  },
  {
   "cell_type": "code",
   "execution_count": null,
   "id": "3e74d30e",
   "metadata": {},
   "outputs": [],
   "source": [
    "#col은 동일해야 한다.(1개의 이름만 받아옴) \n",
    "def categoryData(col, name): \n",
    "    total_list=[] #temp_list를 전부 담을 토탈 리스트(결과 리턴값) \n",
    "    for r in ws.rows: # 엑셀 시트에서 data가 있는 행을 반복 \n",
    "        temp_list=[] #한 줄의 데이터를 임시로 담을 리스트 초기화 \n",
    "        cell_num = len(r) #가로로 입력된 해당 행의 셀 개수 받아오기(셀 개수가 각각 다를 수 있기 때문에)\n",
    "        if r[col].value == name: #해당 열의 값 = 분류이름이 같은경우에만 아래 실행 \n",
    "            for n in range(0,cell_num): \n",
    "                temp_list.append(r[n].value) #셀 개수만큼 임시 리스트에 담는다. \n",
    "        if temp_list != []: #임시리스트가 비어있지 않다면 토탈 리스트에 해당 임시 리스트 추가 \n",
    "            total_list.append(temp_list)\n",
    "    print(total_list) \n",
    "    return total_list"
   ]
  },
  {
   "cell_type": "code",
   "execution_count": null,
   "id": "c476d285",
   "metadata": {},
   "outputs": [],
   "source": [
    "def writeExcel(name, total_list): \n",
    "    sht = wb.create_sheet(name) #각 name에 따라 시트를 새로 생성하고 sht로 선언\n",
    "    i=1 #각 시트 행에 접근하기 위한 인덱스 \n",
    "    for data in total_list: #total_list 반복 \n",
    "        data_length = len(data) #total_list 안의 각 list 길이를 구한다.(각 행 데이터 개수가 다를 수 잇기 때문) \n",
    "        for n in range(0, data_length): \n",
    "            sht.cell(row=i, column=n+1).value = data[n] #각 data를 시트에 입력 \n",
    "        i=i+1 #행을 바꾸기 위한 인덱스 숫자 증가"
   ]
  },
  {
   "cell_type": "code",
   "execution_count": null,
   "id": "5e085904",
   "metadata": {},
   "outputs": [],
   "source": [
    "##실행부 \n",
    "path = r\"./Project/category/data/rawdata.xlsx\" # 원본 엑셀파일 경로\n",
    "wb = op.load_workbook(path) #openpyxl workbook 객체 생성 \n",
    "ws = wb.active #활성화시트 ws로 정의\n",
    "\n",
    "col = 1 #열번호(엑셀의 A열이 0번이다. 1은 B열을 의미) \n",
    "category = categoryList(col) #catagoryList 함수 호출\n",
    "\n",
    "for name in category: #위 catgory 결과 List를 반복 \n",
    "    tota_llist = categoryData(col, name) #categoryData 함수 호출 \n",
    "    writeExcel(name, total_list) #writeExcel 호출 \n",
    "    wb.save(\"분류결과파일.xlsx\") #결과파일 저장\n",
    "    "
   ]
  }
 ],
 "metadata": {
  "kernelspec": {
   "display_name": "Python 3 (ipykernel)",
   "language": "python",
   "name": "python3"
  },
  "language_info": {
   "codemirror_mode": {
    "name": "ipython",
    "version": 3
   },
   "file_extension": ".py",
   "mimetype": "text/x-python",
   "name": "python",
   "nbconvert_exporter": "python",
   "pygments_lexer": "ipython3",
   "version": "3.9.7"
  }
 },
 "nbformat": 4,
 "nbformat_minor": 5
}
